{
 "cells": [
  {
   "cell_type": "code",
   "execution_count": 70,
   "metadata": {},
   "outputs": [],
   "source": [
    "import numpy as np\n",
    "import matplotlib.pyplot as plt"
   ]
  },
  {
   "cell_type": "code",
   "execution_count": 71,
   "metadata": {},
   "outputs": [
    {
     "data": {
      "text/plain": [
       "'/Users/shreyas/Desktop/Shreyas/toy_inverse_problem'"
      ]
     },
     "execution_count": 71,
     "metadata": {},
     "output_type": "execute_result"
    }
   ],
   "source": [
    "import os\n",
    "os.getcwd()"
   ]
  },
  {
   "cell_type": "markdown",
   "metadata": {},
   "source": [
    "https://en.wikipedia.org/wiki/Broyden%E2%80%93Fletcher%E2%80%93Goldfarb%E2%80%93Shanno_algorithm\n"
   ]
  },
  {
   "cell_type": "code",
   "execution_count": 72,
   "metadata": {},
   "outputs": [
    {
     "data": {
      "text/plain": [
       "0"
      ]
     },
     "execution_count": 72,
     "metadata": {},
     "output_type": "execute_result"
    }
   ],
   "source": [
    "def read_state(file_state = 'state.txt'):\n",
    "    \n",
    "    with open(file_state, 'r') as reader:\n",
    "        content = reader.readlines()\n",
    "        M0 = float(content[0])\n",
    "        M1 = float(content[1])\n",
    "        \n",
    "    return M0, M1\n",
    "\n",
    "def read_gradient(file_grad = 'gradient.txt'):\n",
    "    \n",
    "    with open(file_grad, 'r') as reader:\n",
    "        content = reader.readlines()\n",
    "        M0b = float(content[0])\n",
    "        M1b = float(content[1])\n",
    "        \n",
    "    return M0b, M1b\n",
    "\n",
    "def write_state(M0, M1, file_state = 'state.txt'):\n",
    "    \n",
    "    with open(file_state, 'w') as writer:\n",
    "        writer.write(f\"{M0}\\n\")\n",
    "        writer.write(f\"{M1}\")\n",
    "        \n",
    "    return None\n",
    "\n",
    "def eval_gradient(M0, M1, file_gradient = 'gradient.txt', file_state = 'state.txt'):\n",
    "    write_state(M0, M1)\n",
    "    os.system(\"./adjoint\")\n",
    "    \n",
    "    with open(file_gradient, 'r') as reader:\n",
    "        content = reader.readlines()\n",
    "        M0b = float(content[0])\n",
    "        M1b = float(content[1])\n",
    "    \n",
    "        \n",
    "    return M0b, M1b\n",
    "\n",
    "def eval_loss(M0, M1, file_loss = 'loss_inexact_line_search.txt', file_state = 'state.txt'):\n",
    "    write_state(M0, M1)\n",
    "    os.system(\"./forward\")\n",
    "    \n",
    "    with open(file_loss, 'r') as reader:\n",
    "        content = reader.readlines()\n",
    "        J = float(content[0])\n",
    "        \n",
    "    return J\n",
    "\n",
    "os.system(\"make -f Makefile clean; make -f Makefile\")\n",
    "os.system(\"make -f Makefile_forward clean; make -f Makefile_forward\")"
   ]
  },
  {
   "cell_type": "code",
   "execution_count": 73,
   "metadata": {},
   "outputs": [],
   "source": [
    "def BFGS_update_matrix(B, inv_B, y, s):\n",
    "    \n",
    "    B_times_s = np.matmul(B, s)\n",
    "    y_dot_s = np.inner(y, s)\n",
    "    \n",
    "    ##### UPDATE B #####\n",
    "    B_new = B + np.outer(y,y)/y_dot_s - np.outer(B_times_s, B_times_s)/np.inner(s, B_times_s)\n",
    "    \n",
    "    ##### UPDATE INV_B #####\n",
    "    I = np.eye(B.shape[0], dtype = float)\n",
    "    \n",
    "    left = I - np.outer(s, y)/ y_dot_s\n",
    "    right = I - np.outer(y, s)/ y_dot_s\n",
    "    inv_B_new = np.matmul(left, np.matmul(inv_B, right)) + np.outer(s, s) / y_dot_s\n",
    "    \n",
    "    eigs, _ = np.linalg.eig(B_new)\n",
    "    \n",
    "    for eig in eigs:\n",
    "        if(eig <= 0):\n",
    "            print(\"Hessian not Positive definite\")\n",
    "            break\n",
    "        else:\n",
    "            pass\n",
    "        \n",
    "    return B_new, inv_B_new\n",
    "\n",
    "def search_alpha(state, gradient, rho, alpha = 1, c1 = 1e-4, c2 = 0.9):\n",
    "    while True:\n",
    "        \n",
    "        f_old = eval_loss(state[0], state[1])\n",
    "        f_new = eval_loss(state[0] + alpha*rho[0], state[1] + alpha*rho[1])\n",
    "        \n",
    "        gradient_new = np.array(eval_gradient(state[0] + alpha*rho[0], state[1] + alpha*rho[1]))\n",
    "        #print((f_new - f_old) - c1*alpha*np.inner(rho, gradient), np.inner(rho, gradient_new) -  c2*np.inner(rho, gradient))\n",
    "        if (f_new - f_old) <= c1*alpha*np.inner(rho, gradient) and np.inner(rho, gradient_new) >=  c2*np.inner(rho, gradient): \n",
    "            break\n",
    "        else:\n",
    "            alpha = alpha/2\n",
    "    return alpha\n",
    "\n"
   ]
  },
  {
   "cell_type": "markdown",
   "metadata": {},
   "source": [
    "https://scicomp.stackexchange.com/questions/11323/effect-of-initial-guess-b-approximate-hessian-on-bfgs-algorithm"
   ]
  },
  {
   "cell_type": "code",
   "execution_count": 74,
   "metadata": {
    "scrolled": true
   },
   "outputs": [
    {
     "name": "stdout",
     "output_type": "stream",
     "text": [
      "iter = 1; M0 = 0.02033114380278951; M1 = 0.0009822981888490488; Loss = 0.4963958949023225\n",
      "[-132.25775344 2702.16337127] [-8.7075343e-06  1.6230108e-04]\n",
      "iter = 2; M0 = 0.020322436268492387; M1 = 0.001144599268958216; Loss = 0.3631812199547151\n",
      "iter = 3; M0 = 0.020321605375169496; M1 = 0.001145848688578427; Loss = 0.36315898320561846\n",
      "iter = 4; M0 = 0.02032041543572201; M1 = 0.0011460587882240014; Loss = 0.3631455623529033\n",
      "iter = 5; M0 = 0.02030040363370411; M1 = 0.0011472459471442793; Loss = 0.36296942065967674\n",
      "iter = 6; M0 = 0.020258439131678112; M1 = 0.0011471754108826988; Loss = 0.3626448951482938\n",
      "iter = 7; M0 = 0.020109786822469444; M1 = 0.0011428510303172449; Loss = 0.3615613219318648\n",
      "iter = 8; M0 = 0.019709782920211878; M1 = 0.001125042254132247; Loss = 0.35865172167307346\n",
      "iter = 9; M0 = 0.018411882301995607; M1 = 0.0010565617893579199; Loss = 0.3489022412353777\n",
      "iter = 10; M0 = 0.01382637706657381; M1 = 0.0007953532710124145; Loss = 0.31139831437963883\n",
      "iter = 11; M0 = 0.009388348435607492; M1 = 0.0005346860235786908; Loss = 0.2726970009920689\n",
      "iter = 12; M0 = 0.0035220288681780468; M1 = 0.00018261408839537045; Loss = 0.06180082131006611\n",
      "iter = 13; M0 = 0.0029919296379715236; M1 = 0.00015036339524118346; Loss = 0.00955031880183237\n",
      "iter = 14; M0 = 0.0030341148859931912; M1 = 0.0001519057388259577; Loss = 0.007661415260409195\n",
      "iter = 15; M0 = 0.003997156118809415; M1 = 0.00020384871260067342; Loss = 0.0052216674617166\n",
      "iter = 16; M0 = 0.0041617996917380565; M1 = 0.0002086980589614746; Loss = 0.0010775699982018552\n",
      "iter = 17; M0 = 0.0040182724871503945; M1 = 0.00020116489067580897; Loss = 0.0009159188004598752\n",
      "iter = 18; M0 = 0.003922119148251363; M1 = 0.00019599994944190338; Loss = 0.0008822326391441394\n",
      "iter = 19; M0 = 0.003911731778203387; M1 = 0.00019535129813910324; Loss = 0.000876586690793828\n",
      "iter = 20; M0 = 0.0039052414146595075; M1 = 0.00019488450891187343; Loss = 0.0008719726310036154\n"
     ]
    }
   ],
   "source": [
    "##### INITIAL GUESS #####\n",
    "M0 = 0.02\n",
    "M1 = 0.01\n",
    "write_state(M0, M1)\n",
    "\n",
    "MAX_ITERS = 20\n",
    "\n",
    "\n",
    "\n",
    "state = np.array([M0, M1])\n",
    "gradient = np.array(eval_gradient(M0, M1))\n",
    "\n",
    "B = np.eye(2, dtype = float)\n",
    "B_inv = np.eye(2, dtype = float)\n",
    "\n",
    "M0_list = []\n",
    "M1_list = []\n",
    "for iteration in range(MAX_ITERS):\n",
    "    \n",
    "    state_old = np.copy(state)\n",
    "    gradient_old = np.copy(gradient)\n",
    "    \n",
    "    rho = -np.matmul(B_inv, gradient_old)\n",
    "    alpha = search_alpha(state_old, gradient_old, rho)\n",
    "    \n",
    "    s = alpha*rho\n",
    "    state = state_old + s\n",
    "    gradient = eval_gradient(state[0], state[1])\n",
    "    y = gradient - gradient_old\n",
    "        \n",
    "    if iteration == 0:\n",
    "        \n",
    "        pass\n",
    "        \n",
    "    elif iteration == 1 or np.inner(y, s) <= 0:\n",
    "        \n",
    "        if (iteration == 1): print(y, s)\n",
    "        #print(f\"B reset iter {iteration}\")\n",
    "        B =  np.inner(y, y) / np.abs(np.inner(y, s)) * np.eye(2, dtype = float)\n",
    "        B_inv =  np.abs(np.inner(y, s)) / np.inner(y, y) * np.eye(2, dtype = float)\n",
    "        \n",
    "    else:\n",
    "            \n",
    "        B, B_inv = BFGS_update_matrix(B, B_inv, y, s)\n",
    "        \n",
    "    M0_list.append(state[0])\n",
    "    M1_list.append(state[1])\n",
    "    \n",
    "    print(f\"iter = {iteration+1}; M0 = {state[0]}; M1 = {state[1]}; Loss = {eval_loss(state[0], state[1])}\")\n",
    "    "
   ]
  },
  {
   "cell_type": "code",
   "execution_count": 86,
   "metadata": {},
   "outputs": [
    {
     "data": {
      "text/plain": [
       "<matplotlib.legend.Legend at 0x7f8b45b28790>"
      ]
     },
     "execution_count": 86,
     "metadata": {},
     "output_type": "execute_result"
    },
    {
     "data": {
      "image/png": "[encoded data removed]",
      "text/plain": [
       "<Figure size 432x288 with 1 Axes>"
      ]
     },
     "metadata": {
      "needs_background": "light"
     },
     "output_type": "display_data"
    }
   ],
   "source": [
    "plt.plot(np.arange(1, MAX_ITERS+1), M0_list, label = \"M0 BFGS\")\n",
    "plt.axhline(0.004, c ='red', label = \"M0 True value\")\n",
    "plt.legend()"
   ]
  },
  {
   "cell_type": "code",
   "execution_count": 87,
   "metadata": {},
   "outputs": [
    {
     "data": {
      "text/plain": [
       "<matplotlib.legend.Legend at 0x7f8b45d495b0>"
      ]
     },
     "execution_count": 87,
     "metadata": {},
     "output_type": "execute_result"
    },
    {
     "data": {
      "image/png": "[encoded data removed]",
      "text/plain": [
       "<Figure size 432x288 with 1 Axes>"
      ]
     },
     "metadata": {
      "needs_background": "light"
     },
     "output_type": "display_data"
    }
   ],
   "source": [
    "plt.plot(np.arange(1, MAX_ITERS+1), M1_list, label = \"M1 BFGS\")\n",
    "plt.axhline(0.0002, c ='red', label = \"M1 True value\")\n",
    "plt.legend()"
   ]
  },
  {
   "cell_type": "markdown",
   "metadata": {},
   "source": [
    "https://www.stat.cmu.edu/~ryantibs/convexopt-F16/lectures/quasi-newton.pdf           \n",
    "https://www.stat.cmu.edu/~ryantibs/convexopt-F18/lectures/quasi-newton.pdf"
   ]
  },
  {
   "cell_type": "code",
   "execution_count": 88,
   "metadata": {},
   "outputs": [],
   "source": [
    "def L_BFGS_update(k, state_k, y_list, s_list, m):\n",
    "    \n",
    "    q = - np.array(eval_gradient(state_k[0], state_k[1]))\n",
    "    \n",
    "    alpha = np.zeros(k)\n",
    "    \n",
    "    for i in range(k-1, np.maximum(k-m, 0) - 1, -1):\n",
    "        \n",
    "        alpha[i] = np.inner(s_list[i-np.maximum(k-m, 0)], q)/np.inner(y_list[i-np.maximum(k-m, 0)], s_list[i-np.maximum(k-m, 0)])\n",
    "        q = q - alpha[i]*y_list[i-np.maximum(k-m, 0)]\n",
    "        \n",
    "    p = np.inner(np.array(y_list[-1]), np.array(s_list[-1]))/np.inner(np.array(y_list[-1]), np.array(y_list[-1]))*q\n",
    "    \n",
    "    for i in range(np.maximum(k-m, 0), k):\n",
    "        beta = np.inner(y_list[i - np.maximum(k-m, 0)], p)/np.inner(y_list[i - np.maximum(k-m, 0)], s_list[i - np.maximum(k-m, 0)])\n",
    "        #print(i, k-m, np.maximum(k-m, 0))\n",
    "        p = p + (alpha[i] - beta)*s_list[i - np.maximum(k-m, 0)]\n",
    "        \n",
    "    return np.array(p)\n",
    "\n",
    "def manage_y_s_lists(m, y_list, s_list, y, s):\n",
    "    if len(y_list) < m and len(s_list) < m and len(y_list) == len(s_list):\n",
    "        y_list.append(np.array(y))\n",
    "        s_list.append(np.array(s))\n",
    "    elif len(y_list) == m and len(s_list) == m:\n",
    "        y_list.pop(0)\n",
    "        s_list.pop(0)\n",
    "        y_list.append(np.array(y))\n",
    "        s_list.append(np.array(s))\n",
    "        \n",
    "    return y_list, s_list\n",
    "        "
   ]
  },
  {
   "cell_type": "code",
   "execution_count": 89,
   "metadata": {},
   "outputs": [
    {
     "name": "stdout",
     "output_type": "stream",
     "text": [
      "iter = 1; M0 = 0.02033114380278951; M1 = 0.0009822981888490488; Loss = 0.4963958949023225\n",
      "iter = 2; M0 = 0.020325979150718442; M1 = 0.0011227234332402186; Loss = 0.2880680156888957\n",
      "iter = 3; M0 = 0.020325824419222017; M1 = 0.0011220775201944832; Loss = 0.2880566727551021\n",
      "iter = 4; M0 = 0.020325672668254635; M1 = 0.0011222171620638892; Loss = 0.2880526316434578\n",
      "iter = 5; M0 = 0.020325070760934736; M1 = 0.0011223733248948327; Loss = 0.2880449403181858\n",
      "iter = 6; M0 = 0.02032314357054004; M1 = 0.001122542733858776; Loss = 0.2880258151257073\n",
      "iter = 7; M0 = 0.020317072133122147; M1 = 0.0011226523928726418; Loss = 0.287972444275405\n",
      "iter = 8; M0 = 0.020299760409003442; M1 = 0.0011223529542118914; Loss = 0.28782816048366766\n",
      "iter = 9; M0 = 0.020249323027102698; M1 = 0.0011205130406593798; Loss = 0.2874119678567223\n",
      "iter = 10; M0 = 0.02009845284935823; M1 = 0.0011133879566229091; Loss = 0.28612783609032133\n",
      "iter = 11; M0 = 0.019577428241235713; M1 = 0.0010858263682855872; Loss = 0.2812551308449522\n",
      "iter = 12; M0 = 0.016811923691400003; M1 = 0.0009334787969185574; Loss = 0.25162055614602064\n",
      "iter = 13; M0 = 0.006512520829923752; M1 = 0.0003606250452069167; Loss = 0.1636737718479168\n",
      "iter = 14; M0 = 0.0071123640959238595; M1 = 0.0003916647016420037; Loss = 0.1503730504931264\n",
      "iter = 15; M0 = 0.005070036856158741; M1 = 0.0002760719165317019; Loss = 0.1464398780075976\n",
      "iter = 16; M0 = 0.0057388665987800555; M1 = 0.0003117469477635636; Loss = 0.1395918335646443\n",
      "iter = 17; M0 = 0.005745471034627709; M1 = 0.0003097785256166657; Loss = 0.13453704679123238\n",
      "iter = 18; M0 = 0.005212509135745867; M1 = 0.00027153410389062037; Loss = 0.050316190547589214\n",
      "iter = 19; M0 = 0.004234775033517437; M1 = 0.0002068419695145686; Loss = 0.04482553873335559\n",
      "iter = 20; M0 = 0.005003799439870933; M1 = 0.00025756215900158325; Loss = 0.01316064041611174\n",
      "iter = 21; M0 = 0.00469984170108588; M1 = 0.00023785007796716276; Loss = 0.0026650748656380317\n",
      "iter = 22; M0 = 0.004559678936886147; M1 = 0.0002304726272551001; Loss = 0.002108477397258395\n",
      "iter = 23; M0 = 0.003858876550906335; M1 = 0.00019351403952747555; Loss = 0.0010842079562998564\n",
      "iter = 24; M0 = 0.004006028063997453; M1 = 0.0002011867856653472; Loss = 0.0009991447876427557\n",
      "iter = 25; M0 = 0.003993637077670818; M1 = 0.00020044473338280247; Loss = 0.000977441895135371\n"
     ]
    }
   ],
   "source": [
    "##### INITIAL GUESS #####\n",
    "M0 = 0.02\n",
    "M1 = 0.01\n",
    "write_state(M0, M1)\n",
    "\n",
    "MAX_ITERS = 25\n",
    "\n",
    "\n",
    "\n",
    "state = np.array([M0, M1])\n",
    "gradient = np.array(eval_gradient(M0, M1))\n",
    "\n",
    "B = np.eye(2, dtype = float)\n",
    "B_inv = np.eye(2, dtype = float)\n",
    "\n",
    "s_list = []\n",
    "y_list = []\n",
    "\n",
    "m = 10\n",
    "\n",
    "M0_list_LBFGS = []\n",
    "M1_list_LBFGS = []\n",
    "\n",
    "for iteration in range(MAX_ITERS):\n",
    "    state_old = np.copy(state)\n",
    "    gradient_old = np.copy(gradient)\n",
    "    \n",
    "    if iteration == 0:\n",
    "        rho = -np.matmul(B_inv, gradient_old)\n",
    "        \n",
    "    else: \n",
    "\n",
    "        rho = L_BFGS_update(iteration, state_old, y_list, s_list, m)\n",
    "        \n",
    "    alpha = search_alpha(state_old, gradient_old, rho)\n",
    "    s = alpha*rho\n",
    "    state = state_old + s\n",
    "    gradient = eval_gradient(state[0], state[1])\n",
    "    y = gradient - gradient_old\n",
    "        \n",
    "    y_list, s_list = manage_y_s_lists(m, y_list, s_list, y, s)\n",
    "    \n",
    "    M0_list_LBFGS.append(state[0])\n",
    "    M1_list_LBFGS.append(state[1])\n",
    "    \n",
    "    print(f\"iter = {iteration+1}; M0 = {state[0]}; M1 = {state[1]}; Loss = {eval_loss(state[0], state[1])}\")\n",
    "    "
   ]
  },
  {
   "cell_type": "markdown",
   "metadata": {},
   "source": [
    "https://gregorygundersen.com/blog/2019/01/17/randomized-svd/"
   ]
  },
  {
   "cell_type": "code",
   "execution_count": 94,
   "metadata": {},
   "outputs": [
    {
     "data": {
      "text/plain": [
       "<matplotlib.legend.Legend at 0x7f8b4538e430>"
      ]
     },
     "execution_count": 94,
     "metadata": {},
     "output_type": "execute_result"
    },
    {
     "data": {
      "image/png": "[encoded data removed]",
      "text/plain": [
       "<Figure size 432x288 with 1 Axes>"
      ]
     },
     "metadata": {
      "needs_background": "light"
     },
     "output_type": "display_data"
    }
   ],
   "source": [
    "plt.plot(np.arange(1, MAX_ITERS+1), M0_list_LBFGS, label = \"M0 LBFGS\")\n",
    "plt.plot(np.arange(1, 21), M0_list, label = \"M0 BFGS\")\n",
    "plt.axhline(0.004, c ='red', label = \"M0 True value\")\n",
    "plt.legend()"
   ]
  },
  {
   "cell_type": "code",
   "execution_count": 96,
   "metadata": {},
   "outputs": [
    {
     "data": {
      "text/plain": [
       "<matplotlib.legend.Legend at 0x7f8b46050df0>"
      ]
     },
     "execution_count": 96,
     "metadata": {},
     "output_type": "execute_result"
    },
    {
     "data": {
      "image/png": "[encoded data removed]",
      "text/plain": [
       "<Figure size 432x288 with 1 Axes>"
      ]
     },
     "metadata": {
      "needs_background": "light"
     },
     "output_type": "display_data"
    }
   ],
   "source": [
    "plt.plot(np.arange(1, MAX_ITERS+1), M1_list_LBFGS, label = \"M1 LBFGS\")\n",
    "plt.plot(np.arange(1, 21), M1_list, label = \"M1 BFGS\")\n",
    "plt.axhline(0.0002, c ='red', label = \"M1 True value\")\n",
    "plt.legend()"
   ]
  },
  {
   "cell_type": "code",
   "execution_count": 97,
   "metadata": {},
   "outputs": [
    {
     "data": {
      "text/plain": [
       "0"
      ]
     },
     "execution_count": 97,
     "metadata": {},
     "output_type": "execute_result"
    }
   ],
   "source": [
    "\n",
    "def write_vector_for_A_action(vector, filename = \"direction_A_action.txt\"):\n",
    "\n",
    "    with open(filename, 'w') as writer:\n",
    "        for i in range(len(vector)):\n",
    "            writer.write(f\"{vector[i]}\\n\")        \n",
    "    return None\n",
    "        \n",
    "def write_vector_for_AT_action(vector, filename = \"direction_AT_action.txt\"):\n",
    "    \n",
    "    with open(filename, 'w') as writer:\n",
    "        for i in range(len(vector)):\n",
    "            writer.write(f\"{vector[i]}\\n\")        \n",
    "    return None\n",
    "\n",
    "def read_vector_from_A_action(length = 31, filename = \"A_action.txt\"):\n",
    "\n",
    "    vector = np.zeros((length,), dtype = float)\n",
    "    \n",
    "    with open(filename, 'r') as reader:\n",
    "        content = reader.readlines()\n",
    "        for i in range(length):\n",
    "            vector[i] = float(content[i])\n",
    "    return vector\n",
    "        \n",
    "def read_vector_from_AT_action(length = 2, filename = \"AT_action.txt\"):\n",
    "    \n",
    "    vector = np.zeros((length,), dtype = float)\n",
    "    \n",
    "    with open(filename, 'r') as reader:\n",
    "        content = reader.readlines()\n",
    "        for i in range(length):\n",
    "            vector[i] = float(content[i])\n",
    "    return vector\n",
    "\n",
    "def action_A(vector):\n",
    "    write_vector_for_A_action(vector)\n",
    "    os.system(\"./A_action\")\n",
    "    answer = read_vector_from_A_action()\n",
    "    return answer\n",
    "\n",
    "def action_AT(vector):\n",
    "    write_vector_for_AT_action(vector)\n",
    "    os.system(\"./AT_action\")\n",
    "    answer = read_vector_from_AT_action()\n",
    "    return answer\n",
    "\n",
    "def hessian_misfit_action(vector, R_inv = np.eye(31)):\n",
    "    answer = action_A(vector)\n",
    "    answer = np.matmul(R_inv, answer)\n",
    "    answer = action_AT(answer)\n",
    "    \n",
    "    return answer\n",
    "\n",
    "def sqrt_B(B):\n",
    "    D, V = np.linalg.eig(B)\n",
    "    sqrt_B = np.matmul(V, np.diag(D**0.5))\n",
    "    sqrt_B = np.matmul(sqrt_B, V.T)\n",
    "    \n",
    "    return sqrt_B\n",
    "    \n",
    "    \n",
    "def prior_preconditioned_hessian_misfit_action(vector, B = 0.01*np.eye(2)):\n",
    "    answer = np.matmul(sqrt_B(B), vector)\n",
    "    answer = hessian_misfit_action(answer)\n",
    "    answer = np.matmul(sqrt_B(B).T, vector)\n",
    "    \n",
    "    return answer\n",
    "\n",
    "def randomized_EVD(dim_w = 2, k = 2, p = 0):\n",
    "    \n",
    "    for i in range(k):\n",
    "        w = np.random.normal(size=(dim_w,))\n",
    "        y = prior_preconditioned_hessian_misfit_action(w)\n",
    "        \n",
    "        \n",
    "        if (i > 0):\n",
    "            q_tilde = np.eye(y.shape[0]) - np.matmul(Q[:,:i], Q[:,:i].T)\n",
    "            q_tilde = np.matmul(q_tilde, y)\n",
    "        else: \n",
    "            q_tilde = np.copy(y)\n",
    "            Q = np.zeros((y.shape[0],k))\n",
    "        \n",
    "        q = q_tilde / np.linalg.norm(q_tilde)\n",
    "        \n",
    "        Q[:,i] = q.T\n",
    "        \n",
    "    C = np.zeros((y.shape[0],y.shape[0]))\n",
    "    for i in range(Q.shape[0]):\n",
    "        canonical_basis_vector = np.eye(y.shape[0], dtype = 'float')[:,i]\n",
    "        AT_Rinv_A_Q_canonical = prior_preconditioned_hessian_misfit_action(np.matmul(Q, canonical_basis_vector))\n",
    "        C[:,i] = np.matmul(Q.T, AT_Rinv_A_Q_canonical)\n",
    "        \n",
    "    D, V = np.linalg.eig(C)\n",
    "    \n",
    "    V = np.matmul(Q, V)\n",
    "    \n",
    "    A_gauss_newton = np.matmul(np.matmul(V, np.diag(D)), V.T)\n",
    "    return C, D, V, A_gauss_newton\n",
    "\n",
    "os.system(\"make clean; make -f Makefile_A_action\")\n",
    "os.system(\"make clean; make -f Makefile_AT_action\")"
   ]
  },
  {
   "cell_type": "code",
   "execution_count": 102,
   "metadata": {},
   "outputs": [],
   "source": [
    "C, D, V, GN_hessian = randomized_EVD()"
   ]
  },
  {
   "cell_type": "code",
   "execution_count": 104,
   "metadata": {},
   "outputs": [
    {
     "data": {
      "text/plain": [
       "(array([[0.01, 0.  ],\n",
       "        [0.  , 0.01]]),\n",
       " array([[0.00894982, 0.00016943],\n",
       "        [0.00016943, 0.009232  ]]))"
      ]
     },
     "execution_count": 104,
     "metadata": {},
     "output_type": "execute_result"
    }
   ],
   "source": [
    "B = 0.01*np.eye(2)\n",
    "\n",
    "learnings = np.zeros(B.shape)\n",
    "for i in range(B.shape[0]):\n",
    "    learnings = learnings + D[i]/(D[i]+1)*np.outer(np.matmul(sqrt_B(B),V[:,i]), np.matmul(sqrt_B(B),V[:,i]))\n",
    "    \n",
    "P = B - learnings\n",
    "\n",
    "B, P"
   ]
  }
 ],
 "metadata": {
  "kernelspec": {
   "display_name": "Python 3",
   "language": "python",
   "name": "python3"
  },
  "language_info": {
   "codemirror_mode": {
    "name": "ipython",
    "version": 3
   },
   "file_extension": ".py",
   "mimetype": "text/x-python",
   "name": "python",
   "nbconvert_exporter": "python",
   "pygments_lexer": "ipython3",
   "version": "3.8.3"
  }
 },
 "nbformat": 4,
 "nbformat_minor": 4
}
